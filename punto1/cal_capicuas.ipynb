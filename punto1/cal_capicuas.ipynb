{
 "metadata": {
  "name": "",
  "signature": "sha256:aa21ebf2cd63fbb00d3c2e211c0485f1abf874be4db124800486b575b9e5022e"
 },
 "nbformat": 3,
 "nbformat_minor": 0,
 "worksheets": [
  {
   "cells": [
    {
     "cell_type": "code",
     "collapsed": false,
     "input": [
      "%pylab inline\n",
      "import itertools\n",
      "\n"
     ],
     "language": "python",
     "metadata": {},
     "outputs": [
      {
       "output_type": "stream",
       "stream": "stdout",
       "text": [
        "Populating the interactive namespace from numpy and matplotlib\n"
       ]
      }
     ],
     "prompt_number": 4
    },
    {
     "cell_type": "heading",
     "level": 2,
     "metadata": {},
     "source": [
      "Capic\u00faas de 9 d\u00edgitos!"
     ]
    },
    {
     "cell_type": "code",
     "collapsed": false,
     "input": [
      "def capi(n):\n",
      "    m = int(n/2) + n%2 \n",
      "    p = itertools.product(range(10), repeat = m) #iterador de numeros que repite m veces el numero 10 \n",
      "    lista = [''.join(map(str,x)) for x in p] #convertir la lista en strings con map y juntarlos con join que viene de p para usar los siguiente\n",
      "    if n%2 == 0: \n",
      "        c = [x+x[::-1] for x in lista] #retorna toda la lista compuesta del string de entrada y la inversion de el cuando es par\n",
      "    else:\n",
      "        c = [x[:-1]+x[::-1] for x in lista] #si no es par, recorta la lista y la refleja\n",
      "    capi = [int(x) for x in c if x[0] != '0'] \n",
      "    if m==1: capi = [0] + capi #incluye el cero\n",
      "    return capi"
     ],
     "language": "python",
     "metadata": {},
     "outputs": [],
     "prompt_number": 5
    },
    {
     "cell_type": "code",
     "collapsed": false,
     "input": [
      "C = capi(9) #lista los capicuas de 9 digitos\n"
     ],
     "language": "python",
     "metadata": {},
     "outputs": [],
     "prompt_number": 6
    },
    {
     "cell_type": "code",
     "collapsed": false,
     "input": [
      "\n",
      "print(len(C)) #cuantos hay?\n",
      "#for el in C:\n",
      "    #print type(el)"
     ],
     "language": "python",
     "metadata": {},
     "outputs": [
      {
       "output_type": "stream",
       "stream": "stdout",
       "text": [
        "90000\n"
       ]
      }
     ],
     "prompt_number": 7
    },
    {
     "cell_type": "heading",
     "level": 2,
     "metadata": {},
     "source": [
      "Capicuas en representacion binaria!\n"
     ]
    },
    {
     "cell_type": "code",
     "collapsed": false,
     "input": [
      "bin(9)\n",
      " #veamos como funciona la funcion bin.              \n",
      "    \n"
     ],
     "language": "python",
     "metadata": {},
     "outputs": [
      {
       "metadata": {},
       "output_type": "pyout",
       "prompt_number": 8,
       "text": [
        "'0b1001'"
       ]
      }
     ],
     "prompt_number": 8
    },
    {
     "cell_type": "heading",
     "level": 6,
     "metadata": {},
     "source": [
      "Dado que al usar la funcion bin para cambiar la base de un numero determinado, vemos que aparece un termino 0b, debemos buscar\n",
      "la forma de retirarlo, por lo que nuestra lista estara dada por [2 :]"
     ]
    },
    {
     "cell_type": "code",
     "collapsed": false,
     "input": [
      "listbin=[] #es la lista de binarios para los capicuas de 9 digitos\n",
      "for e in C:\n",
      "    listbin.append(bin(e))"
     ],
     "language": "python",
     "metadata": {},
     "outputs": [],
     "prompt_number": 9
    },
    {
     "cell_type": "code",
     "collapsed": false,
     "input": [
      "#for e in listbin:\n",
      "    #print e"
     ],
     "language": "python",
     "metadata": {},
     "outputs": [],
     "prompt_number": 10
    },
    {
     "cell_type": "code",
     "collapsed": false,
     "input": [
      "for i in range(len(C)):\n",
      "    listbin[i] = listbin[i][2 :] #guarda el arreglo sin 0b"
     ],
     "language": "python",
     "metadata": {},
     "outputs": [],
     "prompt_number": 11
    },
    {
     "cell_type": "code",
     "collapsed": false,
     "input": [
      "for index, s in enumerate(C):\n",
      "    a = index"
     ],
     "language": "python",
     "metadata": {},
     "outputs": [],
     "prompt_number": 12
    },
    {
     "cell_type": "code",
     "collapsed": false,
     "input": [
      "def es_bin_capi(x): #funcion que verifica si cada elemento binario es capicua o no\n",
      "    x = str(x)\n",
      "    if x[:: -1] == x:\n",
      "        return 1\n",
      "    else:\n",
      "        return 0\n",
      "    "
     ],
     "language": "python",
     "metadata": {},
     "outputs": [],
     "prompt_number": 13
    },
    {
     "cell_type": "code",
     "collapsed": false,
     "input": [
      "\n",
      "ambos = [x for x in listbin if es_bin_capi(x) == 1]# cuales son los numeros binarios de los capicuas \n",
      "for f in ambos:\n",
      "    print  str(int(f, 2))+ \"=\" + str(f)\n",
      "\n",
      "   \n",
      "  "
     ],
     "language": "python",
     "metadata": {},
     "outputs": [
      {
       "output_type": "stream",
       "stream": "stdout",
       "text": [
        "719848917=101010111010000000010111010101\n",
        "910373019=110110010000110011000010011011\n",
        "939474939=110111111111110011111111111011\n"
       ]
      }
     ],
     "prompt_number": 15
    },
    {
     "cell_type": "heading",
     "level": 4,
     "metadata": {},
     "source": [
      "Obtenemos asi los correspondientes capicuas con su representacion binaria tambien capicua"
     ]
    },
    {
     "cell_type": "code",
     "collapsed": false,
     "input": [
      "len(listbin), len(C)"
     ],
     "language": "python",
     "metadata": {},
     "outputs": [
      {
       "metadata": {},
       "output_type": "pyout",
       "prompt_number": 176,
       "text": [
        "(90000, 90000)"
       ]
      }
     ],
     "prompt_number": 176
    },
    {
     "cell_type": "heading",
     "level": 2,
     "metadata": {},
     "source": [
      "Ahora, vamos a verificar si una cadena de caracteres es palindroma. Yay!"
     ]
    },
    {
     "cell_type": "code",
     "collapsed": false,
     "input": [
      "import string\n",
      "import unicodedata"
     ],
     "language": "python",
     "metadata": {},
     "outputs": [],
     "prompt_number": 27
    },
    {
     "cell_type": "code",
     "collapsed": false,
     "input": [
      "\n",
      "#ahora la funcion\n",
      "def ispalindrome(phrase):\n",
      "    \n",
      "    #print(\"sin quitarle tildes: \"+ phrase)\n",
      "    #hace lo de quitar tildes \n",
      "    phrase_u = unicode(phrase, \"utf-8\")\n",
      "    phrase_u_normed = unicodedata.normalize(\"NFKD\", phrase_u)\n",
      "    phrase = phrase_u_normed.encode(\"ascii\", \"ignore\")\n",
      "    \n",
      "    #print(\"sin tildes: \"+ phrase)\n",
      "    \n",
      "    phrase = phrase.replace(\"\\n\", \"\") #quita newlines\n",
      "    phrase = phrase.replace(\" \", \"\") #quita espacios\n",
      "    \n",
      "    #print(\"sin newlines y espacios en blanco: \"+ phrase)\n",
      "    \n",
      "    for char in string.punctuation:\n",
      "        phrase = phrase.replace(char, \"\") #quita signos de puntuacion\n",
      "            \n",
      "    #print(\"sin signos de puntuacion: \"+ phrase)\n",
      "    \n",
      "    #pasar todo a minuscula\n",
      "    phrase = phrase.lower()\n",
      "    #print(\"en minuscula: \"+ phrase)\n",
      "    \n",
      "    #ahora veamos si es palindromo\n",
      "    if(phrase == phrase[::-1]):\n",
      "        print(\"Si es palindromo\")\n",
      "    else:\n",
      "        print(\"No es palindromo\")"
     ],
     "language": "python",
     "metadata": {},
     "outputs": [],
     "prompt_number": 31
    },
    {
     "cell_type": "code",
     "collapsed": false,
     "input": [
      "A =\"Ay! O\u00edr la sonrisa, madre: Lola iba sin ropa.\\n-Va, se sube, medita.\\n-Airado, llam\u00e9 a comer seis ratones.\\n-Aleve su amor a aves o maleza para robar tesoro.\\n-Se trab\u00f3.\\n-\u00a1Rara paz!\\n-El amo se va a Roma.\\n-Use vela.\\n-S\u00e9 notar, si es remo cae mal; lo dar\u00eda a ti.\\n-D\u00e9me buses a vapor.\\n-Ni sab\u00eda lo lerda, mas irnos al r\u00edo, ya.\\n\"\n",
      "print(A)\n",
      "ispalindrome(A)"
     ],
     "language": "python",
     "metadata": {},
     "outputs": [
      {
       "output_type": "stream",
       "stream": "stdout",
       "text": [
        "Ay! O\u00edr la sonrisa, madre: Lola iba sin ropa.\n",
        "-Va, se sube, medita.\n",
        "-Airado, llam\u00e9 a comer seis ratones.\n",
        "-Aleve su amor a aves o maleza para robar tesoro.\n",
        "-Se trab\u00f3.\n",
        "-\u00a1Rara paz!\n",
        "-El amo se va a Roma.\n",
        "-Use vela.\n",
        "-S\u00e9 notar, si es remo cae mal; lo dar\u00eda a ti.\n",
        "-D\u00e9me buses a vapor.\n",
        "-Ni sab\u00eda lo lerda, mas irnos al r\u00edo, ya.\n",
        "\n",
        "Si es palindromo\n"
       ]
      }
     ],
     "prompt_number": 32
    },
    {
     "cell_type": "heading",
     "level": 3,
     "metadata": {},
     "source": [
      "Si ponemos una letra adicional?"
     ]
    },
    {
     "cell_type": "code",
     "collapsed": false,
     "input": [
      "ispalindrome(A+\"a\")"
     ],
     "language": "python",
     "metadata": {},
     "outputs": [
      {
       "output_type": "stream",
       "stream": "stdout",
       "text": [
        "No es palindromo\n"
       ]
      }
     ],
     "prompt_number": 33
    },
    {
     "cell_type": "heading",
     "level": 2,
     "metadata": {},
     "source": [
      "Otro ejemplo\n"
     ]
    },
    {
     "cell_type": "code",
     "collapsed": false,
     "input": [
      "print(\"Alba helada\\nla voz apaga.\\n\u00a1Vaya vaga\\npaz ovalada\\nle habla!\")\n",
      "ispalindrome(\"Alba helada\\nla voz apaga.\\n\u00a1Vaya vaga\\npaz ovalada\\nle habla!\")"
     ],
     "language": "python",
     "metadata": {},
     "outputs": [
      {
       "output_type": "stream",
       "stream": "stdout",
       "text": [
        "Alba helada\n",
        "la voz apaga.\n",
        "\u00a1Vaya vaga\n",
        "paz ovalada\n",
        "le habla!\n",
        "Si es palindromo\n"
       ]
      }
     ],
     "prompt_number": 34
    },
    {
     "cell_type": "code",
     "collapsed": false,
     "input": [],
     "language": "python",
     "metadata": {},
     "outputs": []
    }
   ],
   "metadata": {}
  }
 ]
}