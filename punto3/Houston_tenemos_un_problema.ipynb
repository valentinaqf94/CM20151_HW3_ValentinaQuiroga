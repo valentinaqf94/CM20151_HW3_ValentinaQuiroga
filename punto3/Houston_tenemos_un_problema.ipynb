{
 "metadata": {
  "name": "",
  "signature": "sha256:5e6caad65e8df642c7ab2c97aa336928def67c22a7dcf8a0f6e3a14c7ddec742"
 },
 "nbformat": 3,
 "nbformat_minor": 0,
 "worksheets": [
  {
   "cells": [
    {
     "cell_type": "heading",
     "level": 1,
     "metadata": {},
     "source": [
      "Houston tiene problemas!"
     ]
    },
    {
     "cell_type": "code",
     "collapsed": false,
     "input": [
      "%pylab inline\n",
      "import pandas as pd\n",
      "import numpy as np\n",
      "import matplotlib.pyplot as plt\n"
     ],
     "language": "python",
     "metadata": {},
     "outputs": [
      {
       "output_type": "stream",
       "stream": "stdout",
       "text": [
        "Populating the interactive namespace from numpy and matplotlib\n"
       ]
      }
     ],
     "prompt_number": 157
    },
    {
     "cell_type": "code",
     "collapsed": false,
     "input": [
      "xl = pd.ExcelFile('Houston-security.xls') #esto descarga el archivo de Excel, distingue entre las sheet que quiero importar e imprime el inicio \n",
      "xl.sheet_names\n",
      "[u'rptPublicAffairs']\n",
      "df = xl.parse(\"rptPublicAffairs\") #variable que guarda las columnas del archivo"
     ],
     "language": "python",
     "metadata": {},
     "outputs": [],
     "prompt_number": 158
    },
    {
     "cell_type": "code",
     "collapsed": false,
     "input": [
      "df = df.rename(columns=lambda x: x.replace(' ', '_'))"
     ],
     "language": "python",
     "metadata": {},
     "outputs": [],
     "prompt_number": 159
    },
    {
     "cell_type": "code",
     "collapsed": false,
     "input": [
      "df = df.iloc[:,[1,2,9]] #esto escoge las columnas de interes"
     ],
     "language": "python",
     "metadata": {},
     "outputs": [],
     "prompt_number": 160
    },
    {
     "cell_type": "code",
     "collapsed": false,
     "input": [
      "df1 = df[df.Offense_Type == 'Aggravated Assault'] #busca en la fila de Offense_type dicho9 nombre y guara en arreglo\n",
      "df2 = df[df.Offense_Type == 'Rape']\n",
      "df3 = df[df.Offense_Type == 'Burglary']\n",
      "df4 = df[df.Offense_Type == 'Auto Theft']\n",
      "df5 = df[df.Offense_Type == 'Theft']\n",
      "df6 = df[df.Offense_Type == 'Robbery']\n",
      "df7 = df[df.Offense_Type == 'Murder']"
     ],
     "language": "python",
     "metadata": {},
     "outputs": [],
     "prompt_number": 161
    },
    {
     "cell_type": "code",
     "collapsed": false,
     "input": [
      "df1"
     ],
     "language": "python",
     "metadata": {},
     "outputs": [
      {
       "html": [
        "<div style=\"max-height:1000px;max-width:1500px;overflow:auto;\">\n",
        "<table border=\"1\" class=\"dataframe\">\n",
        "  <thead>\n",
        "    <tr style=\"text-align: right;\">\n",
        "      <th></th>\n",
        "      <th>Hour</th>\n",
        "      <th>Offense_Type</th>\n",
        "      <th>#_Of_Offenses</th>\n",
        "    </tr>\n",
        "  </thead>\n",
        "  <tbody>\n",
        "    <tr>\n",
        "      <th>904</th>\n",
        "      <td>  0</td>\n",
        "      <td> Aggravated Assault</td>\n",
        "      <td> 1</td>\n",
        "    </tr>\n",
        "    <tr>\n",
        "      <th>905</th>\n",
        "      <td>  0</td>\n",
        "      <td> Aggravated Assault</td>\n",
        "      <td> 1</td>\n",
        "    </tr>\n",
        "    <tr>\n",
        "      <th>906</th>\n",
        "      <td>  9</td>\n",
        "      <td> Aggravated Assault</td>\n",
        "      <td> 1</td>\n",
        "    </tr>\n",
        "    <tr>\n",
        "      <th>907</th>\n",
        "      <td>  9</td>\n",
        "      <td> Aggravated Assault</td>\n",
        "      <td> 1</td>\n",
        "    </tr>\n",
        "    <tr>\n",
        "      <th>908</th>\n",
        "      <td> 14</td>\n",
        "      <td> Aggravated Assault</td>\n",
        "      <td> 1</td>\n",
        "    </tr>\n",
        "    <tr>\n",
        "      <th>909</th>\n",
        "      <td> 13</td>\n",
        "      <td> Aggravated Assault</td>\n",
        "      <td> 1</td>\n",
        "    </tr>\n",
        "    <tr>\n",
        "      <th>910</th>\n",
        "      <td> 18</td>\n",
        "      <td> Aggravated Assault</td>\n",
        "      <td> 1</td>\n",
        "    </tr>\n",
        "    <tr>\n",
        "      <th>911</th>\n",
        "      <td> 21</td>\n",
        "      <td> Aggravated Assault</td>\n",
        "      <td> 1</td>\n",
        "    </tr>\n",
        "    <tr>\n",
        "      <th>912</th>\n",
        "      <td> 19</td>\n",
        "      <td> Aggravated Assault</td>\n",
        "      <td> 1</td>\n",
        "    </tr>\n",
        "    <tr>\n",
        "      <th>913</th>\n",
        "      <td> 15</td>\n",
        "      <td> Aggravated Assault</td>\n",
        "      <td> 1</td>\n",
        "    </tr>\n",
        "    <tr>\n",
        "      <th>914</th>\n",
        "      <td> 19</td>\n",
        "      <td> Aggravated Assault</td>\n",
        "      <td> 2</td>\n",
        "    </tr>\n",
        "    <tr>\n",
        "      <th>915</th>\n",
        "      <td> 19</td>\n",
        "      <td> Aggravated Assault</td>\n",
        "      <td> 2</td>\n",
        "    </tr>\n",
        "    <tr>\n",
        "      <th>916</th>\n",
        "      <td> 19</td>\n",
        "      <td> Aggravated Assault</td>\n",
        "      <td> 3</td>\n",
        "    </tr>\n",
        "    <tr>\n",
        "      <th>917</th>\n",
        "      <td> 21</td>\n",
        "      <td> Aggravated Assault</td>\n",
        "      <td> 2</td>\n",
        "    </tr>\n",
        "    <tr>\n",
        "      <th>918</th>\n",
        "      <td> 19</td>\n",
        "      <td> Aggravated Assault</td>\n",
        "      <td> 1</td>\n",
        "    </tr>\n",
        "    <tr>\n",
        "      <th>919</th>\n",
        "      <td> 23</td>\n",
        "      <td> Aggravated Assault</td>\n",
        "      <td> 1</td>\n",
        "    </tr>\n",
        "    <tr>\n",
        "      <th>920</th>\n",
        "      <td> 22</td>\n",
        "      <td> Aggravated Assault</td>\n",
        "      <td> 1</td>\n",
        "    </tr>\n",
        "    <tr>\n",
        "      <th>921</th>\n",
        "      <td>  0</td>\n",
        "      <td> Aggravated Assault</td>\n",
        "      <td> 1</td>\n",
        "    </tr>\n",
        "    <tr>\n",
        "      <th>922</th>\n",
        "      <td>  1</td>\n",
        "      <td> Aggravated Assault</td>\n",
        "      <td> 1</td>\n",
        "    </tr>\n",
        "    <tr>\n",
        "      <th>923</th>\n",
        "      <td> 11</td>\n",
        "      <td> Aggravated Assault</td>\n",
        "      <td> 1</td>\n",
        "    </tr>\n",
        "    <tr>\n",
        "      <th>924</th>\n",
        "      <td> 16</td>\n",
        "      <td> Aggravated Assault</td>\n",
        "      <td> 1</td>\n",
        "    </tr>\n",
        "    <tr>\n",
        "      <th>925</th>\n",
        "      <td> 12</td>\n",
        "      <td> Aggravated Assault</td>\n",
        "      <td> 1</td>\n",
        "    </tr>\n",
        "    <tr>\n",
        "      <th>926</th>\n",
        "      <td> 18</td>\n",
        "      <td> Aggravated Assault</td>\n",
        "      <td> 1</td>\n",
        "    </tr>\n",
        "    <tr>\n",
        "      <th>927</th>\n",
        "      <td> 19</td>\n",
        "      <td> Aggravated Assault</td>\n",
        "      <td> 1</td>\n",
        "    </tr>\n",
        "    <tr>\n",
        "      <th>928</th>\n",
        "      <td> 19</td>\n",
        "      <td> Aggravated Assault</td>\n",
        "      <td> 1</td>\n",
        "    </tr>\n",
        "    <tr>\n",
        "      <th>929</th>\n",
        "      <td> 19</td>\n",
        "      <td> Aggravated Assault</td>\n",
        "      <td> 1</td>\n",
        "    </tr>\n",
        "    <tr>\n",
        "      <th>930</th>\n",
        "      <td> 20</td>\n",
        "      <td> Aggravated Assault</td>\n",
        "      <td> 1</td>\n",
        "    </tr>\n",
        "    <tr>\n",
        "      <th>931</th>\n",
        "      <td> 22</td>\n",
        "      <td> Aggravated Assault</td>\n",
        "      <td> 1</td>\n",
        "    </tr>\n",
        "    <tr>\n",
        "      <th>932</th>\n",
        "      <td> 22</td>\n",
        "      <td> Aggravated Assault</td>\n",
        "      <td> 1</td>\n",
        "    </tr>\n",
        "    <tr>\n",
        "      <th>933</th>\n",
        "      <td> 23</td>\n",
        "      <td> Aggravated Assault</td>\n",
        "      <td> 2</td>\n",
        "    </tr>\n",
        "    <tr>\n",
        "      <th>934</th>\n",
        "      <td>  0</td>\n",
        "      <td> Aggravated Assault</td>\n",
        "      <td> 1</td>\n",
        "    </tr>\n",
        "    <tr>\n",
        "      <th>935</th>\n",
        "      <td>  3</td>\n",
        "      <td> Aggravated Assault</td>\n",
        "      <td> 1</td>\n",
        "    </tr>\n",
        "    <tr>\n",
        "      <th>936</th>\n",
        "      <td>  4</td>\n",
        "      <td> Aggravated Assault</td>\n",
        "      <td> 2</td>\n",
        "    </tr>\n",
        "    <tr>\n",
        "      <th>937</th>\n",
        "      <td>  9</td>\n",
        "      <td> Aggravated Assault</td>\n",
        "      <td> 1</td>\n",
        "    </tr>\n",
        "    <tr>\n",
        "      <th>938</th>\n",
        "      <td> 10</td>\n",
        "      <td> Aggravated Assault</td>\n",
        "      <td> 1</td>\n",
        "    </tr>\n",
        "    <tr>\n",
        "      <th>939</th>\n",
        "      <td> 10</td>\n",
        "      <td> Aggravated Assault</td>\n",
        "      <td> 1</td>\n",
        "    </tr>\n",
        "    <tr>\n",
        "      <th>940</th>\n",
        "      <td> 13</td>\n",
        "      <td> Aggravated Assault</td>\n",
        "      <td> 1</td>\n",
        "    </tr>\n",
        "    <tr>\n",
        "      <th>941</th>\n",
        "      <td> 14</td>\n",
        "      <td> Aggravated Assault</td>\n",
        "      <td> 1</td>\n",
        "    </tr>\n",
        "    <tr>\n",
        "      <th>942</th>\n",
        "      <td> 18</td>\n",
        "      <td> Aggravated Assault</td>\n",
        "      <td> 1</td>\n",
        "    </tr>\n",
        "    <tr>\n",
        "      <th>943</th>\n",
        "      <td> 19</td>\n",
        "      <td> Aggravated Assault</td>\n",
        "      <td> 2</td>\n",
        "    </tr>\n",
        "    <tr>\n",
        "      <th>944</th>\n",
        "      <td> 21</td>\n",
        "      <td> Aggravated Assault</td>\n",
        "      <td> 1</td>\n",
        "    </tr>\n",
        "    <tr>\n",
        "      <th>945</th>\n",
        "      <td> 20</td>\n",
        "      <td> Aggravated Assault</td>\n",
        "      <td> 1</td>\n",
        "    </tr>\n",
        "    <tr>\n",
        "      <th>946</th>\n",
        "      <td> 22</td>\n",
        "      <td> Aggravated Assault</td>\n",
        "      <td> 1</td>\n",
        "    </tr>\n",
        "    <tr>\n",
        "      <th>947</th>\n",
        "      <td> 20</td>\n",
        "      <td> Aggravated Assault</td>\n",
        "      <td> 1</td>\n",
        "    </tr>\n",
        "    <tr>\n",
        "      <th>948</th>\n",
        "      <td> 23</td>\n",
        "      <td> Aggravated Assault</td>\n",
        "      <td> 1</td>\n",
        "    </tr>\n",
        "    <tr>\n",
        "      <th>949</th>\n",
        "      <td> 23</td>\n",
        "      <td> Aggravated Assault</td>\n",
        "      <td> 1</td>\n",
        "    </tr>\n",
        "    <tr>\n",
        "      <th>950</th>\n",
        "      <td> 23</td>\n",
        "      <td> Aggravated Assault</td>\n",
        "      <td> 1</td>\n",
        "    </tr>\n",
        "    <tr>\n",
        "      <th>951</th>\n",
        "      <td> 23</td>\n",
        "      <td> Aggravated Assault</td>\n",
        "      <td> 1</td>\n",
        "    </tr>\n",
        "    <tr>\n",
        "      <th>952</th>\n",
        "      <td>  0</td>\n",
        "      <td> Aggravated Assault</td>\n",
        "      <td> 1</td>\n",
        "    </tr>\n",
        "    <tr>\n",
        "      <th>953</th>\n",
        "      <td>  0</td>\n",
        "      <td> Aggravated Assault</td>\n",
        "      <td> 1</td>\n",
        "    </tr>\n",
        "    <tr>\n",
        "      <th>954</th>\n",
        "      <td>  1</td>\n",
        "      <td> Aggravated Assault</td>\n",
        "      <td> 1</td>\n",
        "    </tr>\n",
        "    <tr>\n",
        "      <th>955</th>\n",
        "      <td>  1</td>\n",
        "      <td> Aggravated Assault</td>\n",
        "      <td> 1</td>\n",
        "    </tr>\n",
        "    <tr>\n",
        "      <th>956</th>\n",
        "      <td>  1</td>\n",
        "      <td> Aggravated Assault</td>\n",
        "      <td> 1</td>\n",
        "    </tr>\n",
        "    <tr>\n",
        "      <th>957</th>\n",
        "      <td>  2</td>\n",
        "      <td> Aggravated Assault</td>\n",
        "      <td> 1</td>\n",
        "    </tr>\n",
        "    <tr>\n",
        "      <th>958</th>\n",
        "      <td>  2</td>\n",
        "      <td> Aggravated Assault</td>\n",
        "      <td> 1</td>\n",
        "    </tr>\n",
        "    <tr>\n",
        "      <th>959</th>\n",
        "      <td>  4</td>\n",
        "      <td> Aggravated Assault</td>\n",
        "      <td> 1</td>\n",
        "    </tr>\n",
        "    <tr>\n",
        "      <th>960</th>\n",
        "      <td>  6</td>\n",
        "      <td> Aggravated Assault</td>\n",
        "      <td> 1</td>\n",
        "    </tr>\n",
        "    <tr>\n",
        "      <th>961</th>\n",
        "      <td>  6</td>\n",
        "      <td> Aggravated Assault</td>\n",
        "      <td> 1</td>\n",
        "    </tr>\n",
        "    <tr>\n",
        "      <th>962</th>\n",
        "      <td> 10</td>\n",
        "      <td> Aggravated Assault</td>\n",
        "      <td> 1</td>\n",
        "    </tr>\n",
        "    <tr>\n",
        "      <th>963</th>\n",
        "      <td> 11</td>\n",
        "      <td> Aggravated Assault</td>\n",
        "      <td> 1</td>\n",
        "    </tr>\n",
        "    <tr>\n",
        "      <th></th>\n",
        "      <td>...</td>\n",
        "      <td>...</td>\n",
        "      <td>...</td>\n",
        "    </tr>\n",
        "  </tbody>\n",
        "</table>\n",
        "<p>915 rows \u00d7 3 columns</p>\n",
        "</div>"
       ],
       "metadata": {},
       "output_type": "pyout",
       "prompt_number": 162,
       "text": [
        "     Hour        Offense_Type  #_Of_Offenses\n",
        "904     0  Aggravated Assault              1\n",
        "905     0  Aggravated Assault              1\n",
        "906     9  Aggravated Assault              1\n",
        "907     9  Aggravated Assault              1\n",
        "908    14  Aggravated Assault              1\n",
        "909    13  Aggravated Assault              1\n",
        "910    18  Aggravated Assault              1\n",
        "911    21  Aggravated Assault              1\n",
        "912    19  Aggravated Assault              1\n",
        "913    15  Aggravated Assault              1\n",
        "914    19  Aggravated Assault              2\n",
        "915    19  Aggravated Assault              2\n",
        "916    19  Aggravated Assault              3\n",
        "917    21  Aggravated Assault              2\n",
        "918    19  Aggravated Assault              1\n",
        "919    23  Aggravated Assault              1\n",
        "920    22  Aggravated Assault              1\n",
        "921     0  Aggravated Assault              1\n",
        "922     1  Aggravated Assault              1\n",
        "923    11  Aggravated Assault              1\n",
        "924    16  Aggravated Assault              1\n",
        "925    12  Aggravated Assault              1\n",
        "926    18  Aggravated Assault              1\n",
        "927    19  Aggravated Assault              1\n",
        "928    19  Aggravated Assault              1\n",
        "929    19  Aggravated Assault              1\n",
        "930    20  Aggravated Assault              1\n",
        "931    22  Aggravated Assault              1\n",
        "932    22  Aggravated Assault              1\n",
        "933    23  Aggravated Assault              2\n",
        "934     0  Aggravated Assault              1\n",
        "935     3  Aggravated Assault              1\n",
        "936     4  Aggravated Assault              2\n",
        "937     9  Aggravated Assault              1\n",
        "938    10  Aggravated Assault              1\n",
        "939    10  Aggravated Assault              1\n",
        "940    13  Aggravated Assault              1\n",
        "941    14  Aggravated Assault              1\n",
        "942    18  Aggravated Assault              1\n",
        "943    19  Aggravated Assault              2\n",
        "944    21  Aggravated Assault              1\n",
        "945    20  Aggravated Assault              1\n",
        "946    22  Aggravated Assault              1\n",
        "947    20  Aggravated Assault              1\n",
        "948    23  Aggravated Assault              1\n",
        "949    23  Aggravated Assault              1\n",
        "950    23  Aggravated Assault              1\n",
        "951    23  Aggravated Assault              1\n",
        "952     0  Aggravated Assault              1\n",
        "953     0  Aggravated Assault              1\n",
        "954     1  Aggravated Assault              1\n",
        "955     1  Aggravated Assault              1\n",
        "956     1  Aggravated Assault              1\n",
        "957     2  Aggravated Assault              1\n",
        "958     2  Aggravated Assault              1\n",
        "959     4  Aggravated Assault              1\n",
        "960     6  Aggravated Assault              1\n",
        "961     6  Aggravated Assault              1\n",
        "962    10  Aggravated Assault              1\n",
        "963    11  Aggravated Assault              1\n",
        "      ...                 ...            ...\n",
        "\n",
        "[915 rows x 3 columns]"
       ]
      }
     ],
     "prompt_number": 162
    },
    {
     "cell_type": "code",
     "collapsed": false,
     "input": [
      "vainas = ['Aggravated Assault', 'Rape', 'Burglary','Auto Theft','Theft','Robbery','Murder']"
     ],
     "language": "python",
     "metadata": {},
     "outputs": [],
     "prompt_number": 163
    },
    {
     "cell_type": "code",
     "collapsed": false,
     "input": [
      "df1 = df1.iloc[:,[0,2]] #esto selecciona solo las comlumnas con datos de interes, quita el nombre\n",
      "df2 = df2.iloc[:,[0,2]]\n",
      "df3 = df3.iloc[:,[0,2]]\n",
      "df4 = df4.iloc[:,[0,2]]\n",
      "df5 = df5.iloc[:,[0,2]]\n",
      "df6 = df6.iloc[:,[0,2]]\n",
      "df7 = df7.iloc[:,[0,2]]"
     ],
     "language": "python",
     "metadata": {},
     "outputs": [],
     "prompt_number": 164
    },
    {
     "cell_type": "code",
     "collapsed": false,
     "input": [
      "df1"
     ],
     "language": "python",
     "metadata": {},
     "outputs": [
      {
       "html": [
        "<div style=\"max-height:1000px;max-width:1500px;overflow:auto;\">\n",
        "<table border=\"1\" class=\"dataframe\">\n",
        "  <thead>\n",
        "    <tr style=\"text-align: right;\">\n",
        "      <th></th>\n",
        "      <th>Hour</th>\n",
        "      <th>#_Of_Offenses</th>\n",
        "    </tr>\n",
        "  </thead>\n",
        "  <tbody>\n",
        "    <tr>\n",
        "      <th>904</th>\n",
        "      <td>  0</td>\n",
        "      <td> 1</td>\n",
        "    </tr>\n",
        "    <tr>\n",
        "      <th>905</th>\n",
        "      <td>  0</td>\n",
        "      <td> 1</td>\n",
        "    </tr>\n",
        "    <tr>\n",
        "      <th>906</th>\n",
        "      <td>  9</td>\n",
        "      <td> 1</td>\n",
        "    </tr>\n",
        "    <tr>\n",
        "      <th>907</th>\n",
        "      <td>  9</td>\n",
        "      <td> 1</td>\n",
        "    </tr>\n",
        "    <tr>\n",
        "      <th>908</th>\n",
        "      <td> 14</td>\n",
        "      <td> 1</td>\n",
        "    </tr>\n",
        "    <tr>\n",
        "      <th>909</th>\n",
        "      <td> 13</td>\n",
        "      <td> 1</td>\n",
        "    </tr>\n",
        "    <tr>\n",
        "      <th>910</th>\n",
        "      <td> 18</td>\n",
        "      <td> 1</td>\n",
        "    </tr>\n",
        "    <tr>\n",
        "      <th>911</th>\n",
        "      <td> 21</td>\n",
        "      <td> 1</td>\n",
        "    </tr>\n",
        "    <tr>\n",
        "      <th>912</th>\n",
        "      <td> 19</td>\n",
        "      <td> 1</td>\n",
        "    </tr>\n",
        "    <tr>\n",
        "      <th>913</th>\n",
        "      <td> 15</td>\n",
        "      <td> 1</td>\n",
        "    </tr>\n",
        "    <tr>\n",
        "      <th>914</th>\n",
        "      <td> 19</td>\n",
        "      <td> 2</td>\n",
        "    </tr>\n",
        "    <tr>\n",
        "      <th>915</th>\n",
        "      <td> 19</td>\n",
        "      <td> 2</td>\n",
        "    </tr>\n",
        "    <tr>\n",
        "      <th>916</th>\n",
        "      <td> 19</td>\n",
        "      <td> 3</td>\n",
        "    </tr>\n",
        "    <tr>\n",
        "      <th>917</th>\n",
        "      <td> 21</td>\n",
        "      <td> 2</td>\n",
        "    </tr>\n",
        "    <tr>\n",
        "      <th>918</th>\n",
        "      <td> 19</td>\n",
        "      <td> 1</td>\n",
        "    </tr>\n",
        "    <tr>\n",
        "      <th>919</th>\n",
        "      <td> 23</td>\n",
        "      <td> 1</td>\n",
        "    </tr>\n",
        "    <tr>\n",
        "      <th>920</th>\n",
        "      <td> 22</td>\n",
        "      <td> 1</td>\n",
        "    </tr>\n",
        "    <tr>\n",
        "      <th>921</th>\n",
        "      <td>  0</td>\n",
        "      <td> 1</td>\n",
        "    </tr>\n",
        "    <tr>\n",
        "      <th>922</th>\n",
        "      <td>  1</td>\n",
        "      <td> 1</td>\n",
        "    </tr>\n",
        "    <tr>\n",
        "      <th>923</th>\n",
        "      <td> 11</td>\n",
        "      <td> 1</td>\n",
        "    </tr>\n",
        "    <tr>\n",
        "      <th>924</th>\n",
        "      <td> 16</td>\n",
        "      <td> 1</td>\n",
        "    </tr>\n",
        "    <tr>\n",
        "      <th>925</th>\n",
        "      <td> 12</td>\n",
        "      <td> 1</td>\n",
        "    </tr>\n",
        "    <tr>\n",
        "      <th>926</th>\n",
        "      <td> 18</td>\n",
        "      <td> 1</td>\n",
        "    </tr>\n",
        "    <tr>\n",
        "      <th>927</th>\n",
        "      <td> 19</td>\n",
        "      <td> 1</td>\n",
        "    </tr>\n",
        "    <tr>\n",
        "      <th>928</th>\n",
        "      <td> 19</td>\n",
        "      <td> 1</td>\n",
        "    </tr>\n",
        "    <tr>\n",
        "      <th>929</th>\n",
        "      <td> 19</td>\n",
        "      <td> 1</td>\n",
        "    </tr>\n",
        "    <tr>\n",
        "      <th>930</th>\n",
        "      <td> 20</td>\n",
        "      <td> 1</td>\n",
        "    </tr>\n",
        "    <tr>\n",
        "      <th>931</th>\n",
        "      <td> 22</td>\n",
        "      <td> 1</td>\n",
        "    </tr>\n",
        "    <tr>\n",
        "      <th>932</th>\n",
        "      <td> 22</td>\n",
        "      <td> 1</td>\n",
        "    </tr>\n",
        "    <tr>\n",
        "      <th>933</th>\n",
        "      <td> 23</td>\n",
        "      <td> 2</td>\n",
        "    </tr>\n",
        "    <tr>\n",
        "      <th>934</th>\n",
        "      <td>  0</td>\n",
        "      <td> 1</td>\n",
        "    </tr>\n",
        "    <tr>\n",
        "      <th>935</th>\n",
        "      <td>  3</td>\n",
        "      <td> 1</td>\n",
        "    </tr>\n",
        "    <tr>\n",
        "      <th>936</th>\n",
        "      <td>  4</td>\n",
        "      <td> 2</td>\n",
        "    </tr>\n",
        "    <tr>\n",
        "      <th>937</th>\n",
        "      <td>  9</td>\n",
        "      <td> 1</td>\n",
        "    </tr>\n",
        "    <tr>\n",
        "      <th>938</th>\n",
        "      <td> 10</td>\n",
        "      <td> 1</td>\n",
        "    </tr>\n",
        "    <tr>\n",
        "      <th>939</th>\n",
        "      <td> 10</td>\n",
        "      <td> 1</td>\n",
        "    </tr>\n",
        "    <tr>\n",
        "      <th>940</th>\n",
        "      <td> 13</td>\n",
        "      <td> 1</td>\n",
        "    </tr>\n",
        "    <tr>\n",
        "      <th>941</th>\n",
        "      <td> 14</td>\n",
        "      <td> 1</td>\n",
        "    </tr>\n",
        "    <tr>\n",
        "      <th>942</th>\n",
        "      <td> 18</td>\n",
        "      <td> 1</td>\n",
        "    </tr>\n",
        "    <tr>\n",
        "      <th>943</th>\n",
        "      <td> 19</td>\n",
        "      <td> 2</td>\n",
        "    </tr>\n",
        "    <tr>\n",
        "      <th>944</th>\n",
        "      <td> 21</td>\n",
        "      <td> 1</td>\n",
        "    </tr>\n",
        "    <tr>\n",
        "      <th>945</th>\n",
        "      <td> 20</td>\n",
        "      <td> 1</td>\n",
        "    </tr>\n",
        "    <tr>\n",
        "      <th>946</th>\n",
        "      <td> 22</td>\n",
        "      <td> 1</td>\n",
        "    </tr>\n",
        "    <tr>\n",
        "      <th>947</th>\n",
        "      <td> 20</td>\n",
        "      <td> 1</td>\n",
        "    </tr>\n",
        "    <tr>\n",
        "      <th>948</th>\n",
        "      <td> 23</td>\n",
        "      <td> 1</td>\n",
        "    </tr>\n",
        "    <tr>\n",
        "      <th>949</th>\n",
        "      <td> 23</td>\n",
        "      <td> 1</td>\n",
        "    </tr>\n",
        "    <tr>\n",
        "      <th>950</th>\n",
        "      <td> 23</td>\n",
        "      <td> 1</td>\n",
        "    </tr>\n",
        "    <tr>\n",
        "      <th>951</th>\n",
        "      <td> 23</td>\n",
        "      <td> 1</td>\n",
        "    </tr>\n",
        "    <tr>\n",
        "      <th>952</th>\n",
        "      <td>  0</td>\n",
        "      <td> 1</td>\n",
        "    </tr>\n",
        "    <tr>\n",
        "      <th>953</th>\n",
        "      <td>  0</td>\n",
        "      <td> 1</td>\n",
        "    </tr>\n",
        "    <tr>\n",
        "      <th>954</th>\n",
        "      <td>  1</td>\n",
        "      <td> 1</td>\n",
        "    </tr>\n",
        "    <tr>\n",
        "      <th>955</th>\n",
        "      <td>  1</td>\n",
        "      <td> 1</td>\n",
        "    </tr>\n",
        "    <tr>\n",
        "      <th>956</th>\n",
        "      <td>  1</td>\n",
        "      <td> 1</td>\n",
        "    </tr>\n",
        "    <tr>\n",
        "      <th>957</th>\n",
        "      <td>  2</td>\n",
        "      <td> 1</td>\n",
        "    </tr>\n",
        "    <tr>\n",
        "      <th>958</th>\n",
        "      <td>  2</td>\n",
        "      <td> 1</td>\n",
        "    </tr>\n",
        "    <tr>\n",
        "      <th>959</th>\n",
        "      <td>  4</td>\n",
        "      <td> 1</td>\n",
        "    </tr>\n",
        "    <tr>\n",
        "      <th>960</th>\n",
        "      <td>  6</td>\n",
        "      <td> 1</td>\n",
        "    </tr>\n",
        "    <tr>\n",
        "      <th>961</th>\n",
        "      <td>  6</td>\n",
        "      <td> 1</td>\n",
        "    </tr>\n",
        "    <tr>\n",
        "      <th>962</th>\n",
        "      <td> 10</td>\n",
        "      <td> 1</td>\n",
        "    </tr>\n",
        "    <tr>\n",
        "      <th>963</th>\n",
        "      <td> 11</td>\n",
        "      <td> 1</td>\n",
        "    </tr>\n",
        "    <tr>\n",
        "      <th></th>\n",
        "      <td>...</td>\n",
        "      <td>...</td>\n",
        "    </tr>\n",
        "  </tbody>\n",
        "</table>\n",
        "<p>915 rows \u00d7 2 columns</p>\n",
        "</div>"
       ],
       "metadata": {},
       "output_type": "pyout",
       "prompt_number": 165,
       "text": [
        "     Hour  #_Of_Offenses\n",
        "904     0              1\n",
        "905     0              1\n",
        "906     9              1\n",
        "907     9              1\n",
        "908    14              1\n",
        "909    13              1\n",
        "910    18              1\n",
        "911    21              1\n",
        "912    19              1\n",
        "913    15              1\n",
        "914    19              2\n",
        "915    19              2\n",
        "916    19              3\n",
        "917    21              2\n",
        "918    19              1\n",
        "919    23              1\n",
        "920    22              1\n",
        "921     0              1\n",
        "922     1              1\n",
        "923    11              1\n",
        "924    16              1\n",
        "925    12              1\n",
        "926    18              1\n",
        "927    19              1\n",
        "928    19              1\n",
        "929    19              1\n",
        "930    20              1\n",
        "931    22              1\n",
        "932    22              1\n",
        "933    23              2\n",
        "934     0              1\n",
        "935     3              1\n",
        "936     4              2\n",
        "937     9              1\n",
        "938    10              1\n",
        "939    10              1\n",
        "940    13              1\n",
        "941    14              1\n",
        "942    18              1\n",
        "943    19              2\n",
        "944    21              1\n",
        "945    20              1\n",
        "946    22              1\n",
        "947    20              1\n",
        "948    23              1\n",
        "949    23              1\n",
        "950    23              1\n",
        "951    23              1\n",
        "952     0              1\n",
        "953     0              1\n",
        "954     1              1\n",
        "955     1              1\n",
        "956     1              1\n",
        "957     2              1\n",
        "958     2              1\n",
        "959     4              1\n",
        "960     6              1\n",
        "961     6              1\n",
        "962    10              1\n",
        "963    11              1\n",
        "      ...            ...\n",
        "\n",
        "[915 rows x 2 columns]"
       ]
      }
     ],
     "prompt_number": 165
    },
    {
     "cell_type": "code",
     "collapsed": false,
     "input": [
      "def count(n_delito, DF): #funcion que selecciona la columna de las horas y cuenta lo que tiene en su fila, luego grafica los arreglos\n",
      "    x = []\n",
      "    y = []\n",
      "    \n",
      "    print vainas[n_delito-1]\n",
      "    for i in range(24):\n",
      "        cuenta = 0\n",
      "        b = DF[DF.Hour == i]\n",
      "        for j in range(b.shape[0]):\n",
      "            cuenta += b.iloc[j,1]\n",
      "            x.append(DF.iloc[j,0])\n",
      "            y.append(cuenta)\n",
      "        #print \" hora \" + str(i) + \" tiene \" + str(cuenta)\n",
      "        print len(x) \n",
      "    figure(figsize=(20,10))\n",
      "    hist(x,50, color = 'red', width = 1.0)\n",
      "    xlim(0,26)\n",
      "    ylim(0,500)\n",
      "    title(\"$Hora$ $mas$ $peligrosa$ $del$ $dia$ $para$ $robos$\")\n",
      "    show()\n"
     ],
     "language": "python",
     "metadata": {},
     "outputs": [],
     "prompt_number": 174
    },
    {
     "cell_type": "code",
     "collapsed": false,
     "input": [
      "count(1,df1)\n",
      "\n",
      "\n",
      "\n"
     ],
     "language": "python",
     "metadata": {},
     "outputs": [
      {
       "output_type": "stream",
       "stream": "stdout",
       "text": [
        "Aggravated Assault\n",
        "41\n",
        "86\n",
        "130"
       ]
      },
      {
       "output_type": "stream",
       "stream": "stdout",
       "text": [
        "\n",
        "162\n",
        "186\n",
        "203\n",
        "216\n",
        "229\n",
        "251\n",
        "281"
       ]
      },
      {
       "output_type": "stream",
       "stream": "stdout",
       "text": [
        "\n",
        "304\n",
        "334\n",
        "372\n",
        "406\n",
        "446"
       ]
      },
      {
       "output_type": "stream",
       "stream": "stdout",
       "text": [
        "\n",
        "487\n",
        "535\n",
        "575\n",
        "617"
       ]
      },
      {
       "output_type": "stream",
       "stream": "stdout",
       "text": [
        "\n",
        "673\n",
        "735\n",
        "808"
       ]
      },
      {
       "output_type": "stream",
       "stream": "stdout",
       "text": [
        "\n",
        "870\n",
        "915\n"
       ]
      },
      {
       "metadata": {},
       "output_type": "display_data",
       "png": "[encoded data removed]",
       "text": [
        "<matplotlib.figure.Figure at 0x7f475ee40e10>"
       ]
      }
     ],
     "prompt_number": 175
    },
    {
     "cell_type": "code",
     "collapsed": false,
     "input": [
      "count(2,df2)\n"
     ],
     "language": "python",
     "metadata": {},
     "outputs": [
      {
       "output_type": "stream",
       "stream": "stdout",
       "text": [
        "Rape\n",
        "6\n",
        "10\n",
        "16\n",
        "18\n",
        "21\n",
        "22\n",
        "23\n",
        "26\n",
        "28\n",
        "29\n",
        "33\n",
        "34\n",
        "38\n",
        "38\n",
        "40\n",
        "41\n",
        "44\n",
        "48\n",
        "53\n",
        "56\n",
        "64\n",
        "67\n",
        "71\n",
        "73\n"
       ]
      },
      {
       "metadata": {},
       "output_type": "display_data",
       "png": "[encoded data removed]",
       "text": [
        "<matplotlib.figure.Figure at 0x7f475f4a2350>"
       ]
      }
     ],
     "prompt_number": 176
    },
    {
     "cell_type": "code",
     "collapsed": false,
     "input": [
      "count(3,df3)"
     ],
     "language": "python",
     "metadata": {},
     "outputs": [
      {
       "output_type": "stream",
       "stream": "stdout",
       "text": [
        "Burglary\n",
        "73\n",
        "105\n",
        "158"
       ]
      },
      {
       "output_type": "stream",
       "stream": "stdout",
       "text": [
        "\n",
        "207\n",
        "249\n",
        "295\n",
        "379"
       ]
      },
      {
       "output_type": "stream",
       "stream": "stdout",
       "text": [
        "\n",
        "524\n",
        "667"
       ]
      },
      {
       "output_type": "stream",
       "stream": "stdout",
       "text": [
        "\n",
        "787\n",
        "904"
       ]
      },
      {
       "output_type": "stream",
       "stream": "stdout",
       "text": [
        "\n",
        "993\n",
        "1098"
       ]
      },
      {
       "output_type": "stream",
       "stream": "stdout",
       "text": [
        "\n",
        "1181\n",
        "1242\n",
        "1325"
       ]
      },
      {
       "output_type": "stream",
       "stream": "stdout",
       "text": [
        "\n",
        "1379\n",
        "1465\n",
        "1577"
       ]
      },
      {
       "output_type": "stream",
       "stream": "stdout",
       "text": [
        "\n",
        "1650\n",
        "1722\n",
        "1793"
       ]
      },
      {
       "output_type": "stream",
       "stream": "stdout",
       "text": [
        "\n",
        "1850\n",
        "1902\n"
       ]
      },
      {
       "metadata": {},
       "output_type": "display_data",
       "png": "[encoded data removed]",
       "text": [
        "<matplotlib.figure.Figure at 0x7f475f22fd10>"
       ]
      }
     ],
     "prompt_number": 177
    },
    {
     "cell_type": "code",
     "collapsed": false,
     "input": [
      "count(4,df4)\n"
     ],
     "language": "python",
     "metadata": {},
     "outputs": [
      {
       "output_type": "stream",
       "stream": "stdout",
       "text": [
        "Auto Theft\n",
        "78\n",
        "102\n",
        "133"
       ]
      },
      {
       "output_type": "stream",
       "stream": "stdout",
       "text": [
        "\n",
        "156\n",
        "167\n",
        "179\n",
        "197\n",
        "220\n",
        "249\n",
        "281\n",
        "309"
       ]
      },
      {
       "output_type": "stream",
       "stream": "stdout",
       "text": [
        "\n",
        "338\n",
        "394\n",
        "436\n",
        "471\n",
        "514"
       ]
      },
      {
       "output_type": "stream",
       "stream": "stdout",
       "text": [
        "\n",
        "549\n",
        "594\n",
        "659\n",
        "743"
       ]
      },
      {
       "output_type": "stream",
       "stream": "stdout",
       "text": [
        "\n",
        "844\n",
        "924"
       ]
      },
      {
       "output_type": "stream",
       "stream": "stdout",
       "text": [
        "\n",
        "1032\n",
        "1100"
       ]
      },
      {
       "output_type": "stream",
       "stream": "stdout",
       "text": [
        "\n"
       ]
      },
      {
       "metadata": {},
       "output_type": "display_data",
       "png": "[encoded data removed]",
       "text": [
        "<matplotlib.figure.Figure at 0x7f475ee29f90>"
       ]
      }
     ],
     "prompt_number": 178
    },
    {
     "cell_type": "code",
     "collapsed": false,
     "input": [
      "count(5,df5)\n"
     ],
     "language": "python",
     "metadata": {},
     "outputs": [
      {
       "output_type": "stream",
       "stream": "stdout",
       "text": [
        "Theft\n",
        "271"
       ]
      },
      {
       "output_type": "stream",
       "stream": "stdout",
       "text": [
        "\n",
        "395\n",
        "491"
       ]
      },
      {
       "output_type": "stream",
       "stream": "stdout",
       "text": [
        "\n",
        "552\n",
        "596\n",
        "663"
       ]
      },
      {
       "output_type": "stream",
       "stream": "stdout",
       "text": [
        "\n",
        "729\n",
        "830"
       ]
      },
      {
       "output_type": "stream",
       "stream": "stdout",
       "text": [
        "\n",
        "980"
       ]
      },
      {
       "output_type": "stream",
       "stream": "stdout",
       "text": [
        "\n",
        "1157"
       ]
      },
      {
       "output_type": "stream",
       "stream": "stdout",
       "text": [
        "\n",
        "1421"
       ]
      },
      {
       "output_type": "stream",
       "stream": "stdout",
       "text": [
        "\n",
        "1652"
       ]
      },
      {
       "output_type": "stream",
       "stream": "stdout",
       "text": [
        "\n",
        "2067"
       ]
      },
      {
       "output_type": "stream",
       "stream": "stdout",
       "text": [
        "\n",
        "2355"
       ]
      },
      {
       "output_type": "stream",
       "stream": "stdout",
       "text": [
        "\n",
        "2688"
       ]
      },
      {
       "output_type": "stream",
       "stream": "stdout",
       "text": [
        "\n",
        "3008"
       ]
      },
      {
       "output_type": "stream",
       "stream": "stdout",
       "text": [
        "\n",
        "3340"
       ]
      },
      {
       "output_type": "stream",
       "stream": "stdout",
       "text": [
        "\n",
        "3711"
       ]
      },
      {
       "output_type": "stream",
       "stream": "stdout",
       "text": [
        "\n",
        "4124"
       ]
      },
      {
       "output_type": "stream",
       "stream": "stdout",
       "text": [
        "\n",
        "4485"
       ]
      },
      {
       "output_type": "stream",
       "stream": "stdout",
       "text": [
        "\n",
        "4869"
       ]
      },
      {
       "output_type": "stream",
       "stream": "stdout",
       "text": [
        "\n",
        "5176"
       ]
      },
      {
       "output_type": "stream",
       "stream": "stdout",
       "text": [
        "\n",
        "5477"
       ]
      },
      {
       "output_type": "stream",
       "stream": "stdout",
       "text": [
        "\n",
        "5692"
       ]
      },
      {
       "output_type": "stream",
       "stream": "stdout",
       "text": [
        "\n"
       ]
      },
      {
       "metadata": {},
       "output_type": "display_data",
       "png": "[encoded data removed]",
       "text": [
        "<matplotlib.figure.Figure at 0x7f475ef8f290>"
       ]
      }
     ],
     "prompt_number": 179
    },
    {
     "cell_type": "code",
     "collapsed": false,
     "input": [
      "\n",
      "count(6,df6)\n"
     ],
     "language": "python",
     "metadata": {},
     "outputs": [
      {
       "output_type": "stream",
       "stream": "stdout",
       "text": [
        "Robbery\n",
        "65\n",
        "102\n",
        "143\n",
        "168"
       ]
      },
      {
       "output_type": "stream",
       "stream": "stdout",
       "text": [
        "\n",
        "183\n",
        "208\n",
        "221\n",
        "230\n",
        "248\n",
        "272\n",
        "297\n",
        "329"
       ]
      },
      {
       "output_type": "stream",
       "stream": "stdout",
       "text": [
        "\n",
        "353\n",
        "373\n",
        "402\n",
        "444\n",
        "485"
       ]
      },
      {
       "output_type": "stream",
       "stream": "stdout",
       "text": [
        "\n",
        "516\n",
        "539\n",
        "569\n",
        "608\n",
        "674"
       ]
      },
      {
       "output_type": "stream",
       "stream": "stdout",
       "text": [
        "\n",
        "745\n",
        "817\n"
       ]
      },
      {
       "metadata": {},
       "output_type": "display_data",
       "png": "[encoded data removed]",
       "text": [
        "<matplotlib.figure.Figure at 0x7f475e7a6950>"
       ]
      }
     ],
     "prompt_number": 180
    },
    {
     "cell_type": "code",
     "collapsed": false,
     "input": [
      "count(7,df7)"
     ],
     "language": "python",
     "metadata": {},
     "outputs": [
      {
       "output_type": "stream",
       "stream": "stdout",
       "text": [
        "Murder\n",
        "1\n",
        "1\n",
        "1\n",
        "2\n",
        "3\n",
        "3\n",
        "4\n",
        "4\n",
        "4\n",
        "4\n",
        "4\n",
        "4\n",
        "5\n",
        "5\n",
        "5\n",
        "5\n",
        "6\n",
        "6\n",
        "7\n",
        "8\n",
        "8\n",
        "10\n",
        "13\n",
        "14\n"
       ]
      },
      {
       "metadata": {},
       "output_type": "display_data",
       "png": "[encoded data removed]",
       "text": [
        "<matplotlib.figure.Figure at 0x7f475edd6c50>"
       ]
      }
     ],
     "prompt_number": 181
    },
    {
     "cell_type": "code",
     "collapsed": false,
     "input": [],
     "language": "python",
     "metadata": {},
     "outputs": [],
     "prompt_number": 181
    },
    {
     "cell_type": "code",
     "collapsed": false,
     "input": [],
     "language": "python",
     "metadata": {},
     "outputs": [],
     "prompt_number": 173
    },
    {
     "cell_type": "code",
     "collapsed": false,
     "input": [],
     "language": "python",
     "metadata": {},
     "outputs": [],
     "prompt_number": 173
    },
    {
     "cell_type": "code",
     "collapsed": false,
     "input": [],
     "language": "python",
     "metadata": {},
     "outputs": []
    }
   ],
   "metadata": {}
  }
 ]
}