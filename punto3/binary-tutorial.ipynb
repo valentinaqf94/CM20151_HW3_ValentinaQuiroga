{
 "metadata": {
  "name": "",
  "signature": "sha256:3b3e59f943ffca67115dda359a81cfb519d42c1503010ab71f2b4bde8dd73f11"
 },
 "nbformat": 3,
 "nbformat_minor": 0,
 "worksheets": [
  {
   "cells": [
    {
     "cell_type": "code",
     "collapsed": false,
     "input": [
      "%pylab inline\n"
     ],
     "language": "python",
     "metadata": {},
     "outputs": [
      {
       "output_type": "stream",
       "stream": "stdout",
       "text": [
        "Populating the interactive namespace from numpy and matplotlib\n"
       ]
      }
     ],
     "prompt_number": 2
    },
    {
     "cell_type": "heading",
     "level": 1,
     "metadata": {},
     "source": [
      "Tutorial para leer y escribir archivos binarios"
     ]
    },
    {
     "cell_type": "heading",
     "level": 3,
     "metadata": {},
     "source": [
      "A grandes rasgos, un n\u00famero binario es el resultado de un cambio de base a 2, por lo que se maneja s\u00f3lo 0 y 1 para generar una representaci\u00f3n. Son de gran utilidad pues permiten comunicar el estado de un sistema, por ejemplo, en bytes de informaci\u00f3n; lo que resulta ser de alta eficiencia, al menos en comparaci\u00f3n con intercambio de informaci\u00f3n con m\u00e1s s\u00edmbolos. La aplicaci\u00f3n m\u00e1s directa e inmediata resulta estar en los computadores, pues ellos interpretan la informaci\u00f3n de esta manera./n\n",
      "\n",
      "En principio, veamos la manera en que python convierte un n\u00famero en sistema decimal, es decir en base 10, a base binaria."
     ]
    },
    {
     "cell_type": "code",
     "collapsed": false,
     "input": [
      "a = bin(1)\n",
      "b = bin(2)\n",
      "\n",
      "print a,b\n"
     ],
     "language": "python",
     "metadata": {},
     "outputs": [
      {
       "output_type": "stream",
       "stream": "stdout",
       "text": [
        "0b1 0b10\n"
       ]
      }
     ],
     "prompt_number": 47
    },
    {
     "cell_type": "heading",
     "level": 3,
     "metadata": {},
     "source": [
      "bin() es la funci\u00f3n para llevar esta labor a cabo. Vemos que retorna el n\u00famero en sistema binario, acompa\u00f1ado por un \"0b\" que indica que est\u00e1 en esta representaci\u00f3n.\n",
      "Para futuros c\u00e1lculos, es prudente retirarlo pues interfiere con los mismos. La forma recomendada, pero no la \u00fanica, est\u00e1 dada por:"
     ]
    },
    {
     "cell_type": "code",
     "collapsed": false,
     "input": [
      "a[2 :] , b[2 :]\n"
     ],
     "language": "python",
     "metadata": {},
     "outputs": [
      {
       "metadata": {},
       "output_type": "pyout",
       "prompt_number": 17,
       "text": [
        "('1', '10')"
       ]
      }
     ],
     "prompt_number": 17
    },
    {
     "cell_type": "heading",
     "level": 3,
     "metadata": {},
     "source": [
      "Claramente, existe una funci\u00f3n que cambia de base binaria a base decimal, esta es:"
     ]
    },
    {
     "cell_type": "code",
     "collapsed": false,
     "input": [
      "int(str(a), 2), int(str(b), 2)"
     ],
     "language": "python",
     "metadata": {},
     "outputs": [
      {
       "metadata": {},
       "output_type": "pyout",
       "prompt_number": 23,
       "text": [
        "(1, 2)"
       ]
      }
     ],
     "prompt_number": 23
    },
    {
     "cell_type": "heading",
     "level": 3,
     "metadata": {},
     "source": [
      "Por qu\u00e9 el int y el str? Sucede que python, al cambiar la base del n\u00famero decimal, cambia el tipo de variable del n\u00famero. Veamos."
     ]
    },
    {
     "cell_type": "code",
     "collapsed": false,
     "input": [
      "type(a), type(1)"
     ],
     "language": "python",
     "metadata": {},
     "outputs": [
      {
       "metadata": {},
       "output_type": "pyout",
       "prompt_number": 25,
       "text": [
        "(str, int)"
       ]
      }
     ],
     "prompt_number": 25
    },
    {
     "cell_type": "heading",
     "level": 3,
     "metadata": {},
     "source": [
      "Pasa de int a str, por lo tanto, para poder realizar la operaci\u00f3n de cambio de base, se debe realizar un cast de int pues dicha operaci\u00f3n\n",
      "no est\u00e1 definida para str como vemos a continuaci\u00f3n"
     ]
    },
    {
     "cell_type": "code",
     "collapsed": false,
     "input": [
      "(a,2)"
     ],
     "language": "python",
     "metadata": {},
     "outputs": [
      {
       "metadata": {},
       "output_type": "pyout",
       "prompt_number": 27,
       "text": [
        "('0b1', 2)"
       ]
      }
     ],
     "prompt_number": 27
    },
    {
     "cell_type": "heading",
     "level": 3,
     "metadata": {},
     "source": [
      "Pero no s\u00f3lo los n\u00fameros pueden ser representados en base binaria, tambi\u00e9n podemos hacerlo con strings (evidentemente, pues es la forma en la que nuestro computador interpreta la introducci\u00f3n de letras) para ello:"
     ]
    },
    {
     "cell_type": "code",
     "collapsed": false,
     "input": [
      "def binarios(string):\n",
      "    string = \"Hola soy un binario y no lo sabias\"\n",
      "    ' '.join(format(ord(x), 'b') for x in string)\n"
     ],
     "language": "python",
     "metadata": {},
     "outputs": [],
     "prompt_number": 81
    },
    {
     "cell_type": "heading",
     "level": 3,
     "metadata": {},
     "source": [
      "Ac\u00e1 join se encarga de unir cada string resultante, ord(x) convierte el string a representaci\u00f3n Unicode o, en este caso,\n",
      "la representaci\u00f3n en bytes de dicho n\u00famero; b se refiere a binario, format se encarga de \"formatear\" la representaci\u00f3n de lo que le entra\n",
      "por par\u00e1metro y x es el string que entra por par\u00e1metro. Vamos a ver una funci\u00f3n que abra archivos no binarios y los convierta a binario:\n"
     ]
    },
    {
     "cell_type": "code",
     "collapsed": false,
     "input": [
      "def pasar_binario(archivo_no_binario,nuevo_binario):\n",
      "    b = open(archivo_no_binario,'wb')\n",
      "    b.write(nuevo_binario.encode(\"UTF-8\"))\n",
      "    #' '.join(format(ord(x), 'b') for x in archivo_no_binario)  \n"
     ],
     "language": "python",
     "metadata": {},
     "outputs": [],
     "prompt_number": 82
    },
    {
     "cell_type": "heading",
     "level": 3,
     "metadata": {},
     "source": [
      "El UTF-8 est\u00e1 para corregir potenciales errores de Unicode (ver explicaci\u00f3n anterior) y \"wb\" corresponde a archivo binario editable. Para leer funciones en binario y pasarlas a string , o n\u00fameros con un simple paso como vimos anteriormente, hacemos:\n"
     ]
    },
    {
     "cell_type": "code",
     "collapsed": false,
     "input": [
      "def pasar_string(archivo_binario):\n",
      "    a = open(nombre_del_archivo, 'rb')\n",
      "    strings = a.read()\n",
      "    print strings"
     ],
     "language": "python",
     "metadata": {},
     "outputs": [],
     "prompt_number": 83
    },
    {
     "cell_type": "heading",
     "level": 3,
     "metadata": {},
     "source": [
      "Donde \"rb\" es binario no editable. Es as\u00ed como se pueden leer y generar archivos binarios en python."
     ]
    }
   ],
   "metadata": {}
  }
 ]
}