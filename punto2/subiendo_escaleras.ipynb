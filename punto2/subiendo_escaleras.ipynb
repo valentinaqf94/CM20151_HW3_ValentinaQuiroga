{
 "metadata": {
  "name": "",
  "signature": "sha256:aa7b9ccbbb630bab4d91935175d6860ab129c45e28d3a32b254e137d777be87d"
 },
 "nbformat": 3,
 "nbformat_minor": 0,
 "worksheets": [
  {
   "cells": [
    {
     "cell_type": "heading",
     "level": 1,
     "metadata": {},
     "source": [
      "Subiendo escaleras"
     ]
    },
    {
     "cell_type": "code",
     "collapsed": false,
     "input": [
      "%pylab inline\n"
     ],
     "language": "python",
     "metadata": {},
     "outputs": [
      {
       "output_type": "stream",
       "stream": "stdout",
       "text": [
        "Populating the interactive namespace from numpy and matplotlib\n"
       ]
      }
     ],
     "prompt_number": 34
    },
    {
     "cell_type": "code",
     "collapsed": false,
     "input": [
      "def subir_escalera(): #esta es la funcion que representa las formas de subir una escalera de n escalones\n",
      "    a = 1\n",
      "    b = 1\n",
      "    while True:         \n",
      "        yield a           #yield es un return para generadores\n",
      "        a, b = b, a + b  "
     ],
     "language": "python",
     "metadata": {},
     "outputs": [],
     "prompt_number": 88
    },
    {
     "cell_type": "code",
     "collapsed": false,
     "input": [
      "def cal_formas(n):\n",
      "    for index, subiendo in enumerate(subir_escalera()): #funcion que, tras darle el numero de escalones que se quiere subir, le da las formas de hacerlo\n",
      "         #print('{i:3}: {f:3}'.format(i=index, f=subiendo))\n",
      "         if index == n:\n",
      "             break\n",
      "    return subiendo"
     ],
     "language": "python",
     "metadata": {},
     "outputs": [],
     "prompt_number": 89
    },
    {
     "cell_type": "heading",
     "level": 2,
     "metadata": {},
     "source": [
      "Para 15 escalones existen 987 formas de subir"
     ]
    },
    {
     "cell_type": "code",
     "collapsed": false,
     "input": [
      "cal_formas(15)"
     ],
     "language": "python",
     "metadata": {},
     "outputs": [
      {
       "metadata": {},
       "output_type": "pyout",
       "prompt_number": 90,
       "text": [
        "987"
       ]
      }
     ],
     "prompt_number": 90
    },
    {
     "cell_type": "heading",
     "level": 2,
     "metadata": {},
     "source": [
      "Para 13 escalones existen 377 formas de subir"
     ]
    },
    {
     "cell_type": "code",
     "collapsed": false,
     "input": [
      "cal_formas(13)"
     ],
     "language": "python",
     "metadata": {},
     "outputs": [
      {
       "metadata": {},
       "output_type": "pyout",
       "prompt_number": 91,
       "text": [
        "377"
       ]
      }
     ],
     "prompt_number": 91
    },
    {
     "cell_type": "heading",
     "level": 2,
     "metadata": {},
     "source": [
      "Vamos a ver la escalera con modulo\n"
     ]
    },
    {
     "cell_type": "code",
     "collapsed": false,
     "input": [],
     "language": "python",
     "metadata": {},
     "outputs": [],
     "prompt_number": 91
    },
    {
     "cell_type": "code",
     "collapsed": false,
     "input": [
      "A=[4,4,5,5,1] #ejemplo guia\n",
      "B=[3,2,4,3,1]\n",
      "L=1000\n",
      "E=[]\n",
      "def escalera(A,B):\n",
      "    for d in (range(len(A))): #itero en el tamanio de A, me retorna la lista compuesta del producto de ambas cosas\n",
      "        DATO=cal_formas(A[d]%(((B[d]))*2))\n",
      "        E.append(DATO)\n",
      "    return E\n",
      "            \n",
      "escalera(A,B)\n",
      "        \n",
      "\n",
      "\n",
      "    \n",
      "    "
     ],
     "language": "python",
     "metadata": {},
     "outputs": [
      {
       "metadata": {},
       "output_type": "pyout",
       "prompt_number": 92,
       "text": [
        "[5, 1, 8, 8, 1]"
       ]
      }
     ],
     "prompt_number": 92
    },
    {
     "cell_type": "code",
     "collapsed": false,
     "input": [
      "A=[1,2,3,4,5] #ejemplo aparte\n",
      "B=[1,2,3,4,5]\n",
      "L=1000\n",
      "E=[]\n",
      "def escalera(A,B):\n",
      "    for d in (range(len(A))): #itero en el tamanio de A, me retorna la lista compuesta del producto de ambas cosas\n",
      "        DATO=cal_formas(A[d]%(((B[d]))*2))\n",
      "        E.append(DATO)\n",
      "    return E\n",
      "            \n",
      "escalera(A,B)\n",
      "        "
     ],
     "language": "python",
     "metadata": {},
     "outputs": [
      {
       "metadata": {},
       "output_type": "pyout",
       "prompt_number": 93,
       "text": [
        "[1, 2, 3, 5, 8]"
       ]
      }
     ],
     "prompt_number": 93
    },
    {
     "cell_type": "code",
     "collapsed": false,
     "input": [],
     "language": "python",
     "metadata": {},
     "outputs": [],
     "prompt_number": 93
    },
    {
     "cell_type": "code",
     "collapsed": false,
     "input": [],
     "language": "python",
     "metadata": {},
     "outputs": [],
     "prompt_number": 93
    },
    {
     "cell_type": "code",
     "collapsed": false,
     "input": [],
     "language": "python",
     "metadata": {},
     "outputs": []
    }
   ],
   "metadata": {}
  }
 ]
}