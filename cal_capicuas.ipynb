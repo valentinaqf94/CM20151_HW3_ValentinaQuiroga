{
 "metadata": {
  "name": "",
  "signature": "sha256:f5760c3fc05b4477c2939bc7f62ed12981b2571298e0df6e9385109e7fca5469"
 },
 "nbformat": 3,
 "nbformat_minor": 0,
 "worksheets": [
  {
   "cells": [
    {
     "cell_type": "code",
     "collapsed": false,
     "input": [
      "#%pylab inline\n",
      "import itertools\n",
      "\n"
     ],
     "language": "python",
     "metadata": {},
     "outputs": [],
     "prompt_number": 153
    },
    {
     "cell_type": "heading",
     "level": 2,
     "metadata": {},
     "source": [
      "Capic\u00faas de 9 d\u00edgitos!"
     ]
    },
    {
     "cell_type": "code",
     "collapsed": false,
     "input": [
      "def capi(n):\n",
      "    m = int(n/2) + n%2 \n",
      "    p = itertools.product(range(10), repeat = m) #iterador de numeros que repite m veces el numero 10 \n",
      "    lista = [''.join(map(str,x)) for x in p] #convertir la lista en strings con map y juntarlos con join que viene de p para usar los siguiente\n",
      "    if n%2 == 0: \n",
      "        c = [x+x[::-1] for x in lista] #retorna toda la lista compuesta del string de entrada y la inversion de el cuando es par\n",
      "    else:\n",
      "        c = [x[:-1]+x[::-1] for x in lista] #si no es par, recorta la lista y la refleja\n",
      "    capi = [int(x) for x in c if x[0] != '0'] \n",
      "    if m==1: capi = [0] + capi #incluye el cero\n",
      "    return capi"
     ],
     "language": "python",
     "metadata": {},
     "outputs": [],
     "prompt_number": 154
    },
    {
     "cell_type": "code",
     "collapsed": false,
     "input": [
      "C = capi(9) #lista los capicuas de 9 digitos\n"
     ],
     "language": "python",
     "metadata": {},
     "outputs": [],
     "prompt_number": 155
    },
    {
     "cell_type": "code",
     "collapsed": false,
     "input": [
      "\n",
      "print(len(C)) #cuantos hay?\n",
      "#for el in C:\n",
      "    #print type(el)"
     ],
     "language": "python",
     "metadata": {},
     "outputs": [
      {
       "output_type": "stream",
       "stream": "stdout",
       "text": [
        "90000\n"
       ]
      }
     ],
     "prompt_number": 156
    },
    {
     "cell_type": "heading",
     "level": 2,
     "metadata": {},
     "source": [
      "Capicuas en representacion binaria!\n"
     ]
    },
    {
     "cell_type": "code",
     "collapsed": false,
     "input": [
      "bin(9)\n",
      " #veamos como funciona la funcion bin.              \n",
      "    \n"
     ],
     "language": "python",
     "metadata": {},
     "outputs": [
      {
       "metadata": {},
       "output_type": "pyout",
       "prompt_number": 157,
       "text": [
        "'0b1001'"
       ]
      }
     ],
     "prompt_number": 157
    },
    {
     "cell_type": "heading",
     "level": 6,
     "metadata": {},
     "source": [
      "Dado que al usar la funcion bin para cambiar la base de un numero determinado, vemos que aparece un termino 0b, debemos buscar\n",
      "la forma de retirarlo, por lo que nuestra lista estara dada por [2 :]"
     ]
    },
    {
     "cell_type": "code",
     "collapsed": false,
     "input": [
      "listbin=[] #es la lista de binarios para los capicuas de 9 digitos\n",
      "for e in C:\n",
      "    listbin.append(bin(e))"
     ],
     "language": "python",
     "metadata": {},
     "outputs": [],
     "prompt_number": 158
    },
    {
     "cell_type": "code",
     "collapsed": false,
     "input": [
      "#for e in listbin:\n",
      "    #print e"
     ],
     "language": "python",
     "metadata": {},
     "outputs": [],
     "prompt_number": 159
    },
    {
     "cell_type": "code",
     "collapsed": false,
     "input": [
      "for i in range(len(C)):\n",
      "    listbin[i] = listbin[i][2 :] #guarda el arreglo sin 0b"
     ],
     "language": "python",
     "metadata": {},
     "outputs": [],
     "prompt_number": 160
    },
    {
     "cell_type": "code",
     "collapsed": false,
     "input": [
      "for index, s in enumerate(C):\n",
      "    a = index"
     ],
     "language": "python",
     "metadata": {},
     "outputs": [],
     "prompt_number": 161
    },
    {
     "cell_type": "code",
     "collapsed": false,
     "input": [
      "def es_bin_capi(x): #funcion que verifica si cada elemento binario es capicua o no\n",
      "    x = str(x)\n",
      "    if x[:: -1] == x:\n",
      "        return 1\n",
      "    else:\n",
      "        return 0\n",
      "    "
     ],
     "language": "python",
     "metadata": {},
     "outputs": [],
     "prompt_number": 162
    },
    {
     "cell_type": "code",
     "collapsed": false,
     "input": [
      "\n",
      "ambos = [x for x in listbin if es_bin_capi(x) == 1]# cuales son los numeros binarios de los capicuas \n",
      "\n",
      "for f in ambos:\n",
      "    print f\n",
      "    listation.append(str(ambos))\n",
      "\n",
      "   \n",
      "  "
     ],
     "language": "python",
     "metadata": {},
     "outputs": [
      {
       "output_type": "stream",
       "stream": "stdout",
       "text": [
        "101010111010000000010111010101\n",
        "110110010000110011000010011011\n",
        "110111111111110011111111111011\n"
       ]
      }
     ],
     "prompt_number": 163
    },
    {
     "cell_type": "code",
     "collapsed": false,
     "input": [
      "print int(\"101010111010000000010111010101\", 2),\"=\", 101010111010000000010111010101\n",
      "print int(\"110110010000110011000010011011\", 2), \"=\", 110110010000110011000010011011\n",
      "print int(\"110111111111110011111111111011\", 2), \"=\", 110111111111110011111111111011"
     ],
     "language": "python",
     "metadata": {},
     "outputs": [
      {
       "output_type": "stream",
       "stream": "stdout",
       "text": [
        "719848917 = 101010111010000000010111010101\n",
        "910373019 = 110110010000110011000010011011\n",
        "939474939 = 110111111111110011111111111011\n"
       ]
      }
     ],
     "prompt_number": 201
    },
    {
     "cell_type": "code",
     "collapsed": false,
     "input": [
      "L=[]\n",
      "for i in range(len(ambos)):\n",
      "    for j in range(len(C)):\n",
      "        if ambos[i] == C[j]:\n",
      "            L.append(str(ambos[i]) + \"=\" + str(C[j]))\n",
      "print L\n",
      "                 \n",
      "#porque PUTAS!!!!\n",
      "\n",
      "    "
     ],
     "language": "python",
     "metadata": {},
     "outputs": [
      {
       "output_type": "stream",
       "stream": "stdout",
       "text": [
        "[]\n"
       ]
      }
     ],
     "prompt_number": 202
    },
    {
     "cell_type": "code",
     "collapsed": false,
     "input": [
      "len(listbin), len(C)"
     ],
     "language": "python",
     "metadata": {},
     "outputs": [
      {
       "metadata": {},
       "output_type": "pyout",
       "prompt_number": 176,
       "text": [
        "(90000, 90000)"
       ]
      }
     ],
     "prompt_number": 176
    },
    {
     "cell_type": "code",
     "collapsed": false,
     "input": [],
     "language": "python",
     "metadata": {},
     "outputs": []
    }
   ],
   "metadata": {}
  }
 ]
}