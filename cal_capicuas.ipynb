{
 "metadata": {
  "name": "",
  "signature": "sha256:8297a1d7b8dbb34dc4634587bab67c47c8a2ced90fa852c26680a439f0aa9d8d"
 },
 "nbformat": 3,
 "nbformat_minor": 0,
 "worksheets": [
  {
   "cells": [
    {
     "cell_type": "code",
     "collapsed": false,
     "input": [
      "%pylab inline\n",
      "import itertools\n",
      "\n"
     ],
     "language": "python",
     "metadata": {},
     "outputs": [
      {
       "output_type": "stream",
       "stream": "stdout",
       "text": [
        "Populating the interactive namespace from numpy and matplotlib\n"
       ]
      }
     ],
     "prompt_number": 1
    },
    {
     "cell_type": "heading",
     "level": 2,
     "metadata": {},
     "source": [
      "Capic\u00faas de 9 d\u00edgitos!"
     ]
    },
    {
     "cell_type": "code",
     "collapsed": false,
     "input": [
      "def capi(n):\n",
      "    m = int(n/2) + n%2 \n",
      "    p = itertools.product(range(10), repeat = m) #iterador de numeros que repite m veces el numero 10 \n",
      "    lista = [''.join(map(str,x)) for x in p] #convertir la lista en strings con map y juntarlos con join que viene de p para usar los siguiente\n",
      "    if n%2 == 0: \n",
      "        c = [x+x[::-1] for x in lista] #retorna toda la lista compuesta del string de entrada y la inversion de el cuando es par\n",
      "    else:\n",
      "        c = [x[:-1]+x[::-1] for x in lista] #si no es par, recorta la lista y la refleja\n",
      "    capi = [int(x) for x in c if x[0] != '0'] \n",
      "    if m==1: capi = [0] + capi #incluye el cero\n",
      "    return capi"
     ],
     "language": "python",
     "metadata": {},
     "outputs": [],
     "prompt_number": 154
    },
    {
     "cell_type": "code",
     "collapsed": false,
     "input": [
      "C = capi(9) #lista los capicuas de 9 digitos\n"
     ],
     "language": "python",
     "metadata": {},
     "outputs": [],
     "prompt_number": 155
    },
    {
     "cell_type": "code",
     "collapsed": false,
     "input": [
      "\n",
      "print(len(C)) #cuantos hay?\n",
      "#for el in C:\n",
      "    #print type(el)"
     ],
     "language": "python",
     "metadata": {},
     "outputs": [
      {
       "output_type": "stream",
       "stream": "stdout",
       "text": [
        "90000\n"
       ]
      }
     ],
     "prompt_number": 156
    },
    {
     "cell_type": "heading",
     "level": 2,
     "metadata": {},
     "source": [
      "Capicuas en representacion binaria!\n"
     ]
    },
    {
     "cell_type": "code",
     "collapsed": false,
     "input": [
      "bin(9)\n",
      " #veamos como funciona la funcion bin.              \n",
      "    \n"
     ],
     "language": "python",
     "metadata": {},
     "outputs": [
      {
       "metadata": {},
       "output_type": "pyout",
       "prompt_number": 157,
       "text": [
        "'0b1001'"
       ]
      }
     ],
     "prompt_number": 157
    },
    {
     "cell_type": "heading",
     "level": 6,
     "metadata": {},
     "source": [
      "Dado que al usar la funcion bin para cambiar la base de un numero determinado, vemos que aparece un termino 0b, debemos buscar\n",
      "la forma de retirarlo, por lo que nuestra lista estara dada por [2 :]"
     ]
    },
    {
     "cell_type": "code",
     "collapsed": false,
     "input": [
      "listbin=[] #es la lista de binarios para los capicuas de 9 digitos\n",
      "for e in C:\n",
      "    listbin.append(bin(e))"
     ],
     "language": "python",
     "metadata": {},
     "outputs": [],
     "prompt_number": 158
    },
    {
     "cell_type": "code",
     "collapsed": false,
     "input": [
      "#for e in listbin:\n",
      "    #print e"
     ],
     "language": "python",
     "metadata": {},
     "outputs": [],
     "prompt_number": 159
    },
    {
     "cell_type": "code",
     "collapsed": false,
     "input": [
      "for i in range(len(C)):\n",
      "    listbin[i] = listbin[i][2 :] #guarda el arreglo sin 0b"
     ],
     "language": "python",
     "metadata": {},
     "outputs": [],
     "prompt_number": 160
    },
    {
     "cell_type": "code",
     "collapsed": false,
     "input": [
      "for index, s in enumerate(C):\n",
      "    a = index"
     ],
     "language": "python",
     "metadata": {},
     "outputs": [],
     "prompt_number": 161
    },
    {
     "cell_type": "code",
     "collapsed": false,
     "input": [
      "def es_bin_capi(x): #funcion que verifica si cada elemento binario es capicua o no\n",
      "    x = str(x)\n",
      "    if x[:: -1] == x:\n",
      "        return 1\n",
      "    else:\n",
      "        return 0\n",
      "    "
     ],
     "language": "python",
     "metadata": {},
     "outputs": [],
     "prompt_number": 162
    },
    {
     "cell_type": "code",
     "collapsed": false,
     "input": [
      "\n",
      "ambos = [x for x in listbin if es_bin_capi(x) == 1]# cuales son los numeros binarios de los capicuas \n",
      "\n",
      "for f in ambos:\n",
      "    print f\n",
      "\n",
      "   \n",
      "  "
     ],
     "language": "python",
     "metadata": {},
     "outputs": [
      {
       "output_type": "stream",
       "stream": "stdout",
       "text": [
        "101010111010000000010111010101\n",
        "110110010000110011000010011011\n",
        "110111111111110011111111111011\n"
       ]
      }
     ],
     "prompt_number": 163
    },
    {
     "cell_type": "heading",
     "level": 4,
     "metadata": {},
     "source": [
      "Obtenemos asi los correspondientes capicuas con su representacion binaria tambien capicua"
     ]
    },
    {
     "cell_type": "code",
     "collapsed": false,
     "input": [
      "print int(\"101010111010000000010111010101\", 2),\"=\", 101010111010000000010111010101\n",
      "print int(\"110110010000110011000010011011\", 2), \"=\", 110110010000110011000010011011\n",
      "print int(\"110111111111110011111111111011\", 2), \"=\", 110111111111110011111111111011"
     ],
     "language": "python",
     "metadata": {},
     "outputs": [
      {
       "output_type": "stream",
       "stream": "stdout",
       "text": [
        "719848917 = 101010111010000000010111010101\n",
        "910373019 = 110110010000110011000010011011\n",
        "939474939 = 110111111111110011111111111011\n"
       ]
      }
     ],
     "prompt_number": 201
    },
    {
     "cell_type": "code",
     "collapsed": false,
     "input": [
      "L=[]\n",
      "for i in range(len(ambos)):\n",
      "    for j in range(len(C)):\n",
      "        if ambos[i] == C[j]:\n",
      "            L.append(str(ambos[i]) + \"=\" + str(C[j]))\n",
      "print L\n",
      "                 \n",
      "#porque PUTAS!!!!\n",
      "\n",
      "    "
     ],
     "language": "python",
     "metadata": {},
     "outputs": [
      {
       "output_type": "stream",
       "stream": "stdout",
       "text": [
        "[]\n"
       ]
      }
     ],
     "prompt_number": 202
    },
    {
     "cell_type": "code",
     "collapsed": false,
     "input": [
      "len(listbin), len(C)"
     ],
     "language": "python",
     "metadata": {},
     "outputs": [
      {
       "metadata": {},
       "output_type": "pyout",
       "prompt_number": 176,
       "text": [
        "(90000, 90000)"
       ]
      }
     ],
     "prompt_number": 176
    },
    {
     "cell_type": "heading",
     "level": 2,
     "metadata": {},
     "source": [
      "Ahora, vamos a verificar si una cadena de caracteres es palindroma. Yay!"
     ]
    },
    {
     "cell_type": "code",
     "collapsed": false,
     "input": [
      "#import sys, string, codecs\n",
      "#n_argv = len(sys.argv)\n",
      "#if (n_argv != 2):\n",
      "    #print \"EL programa debe inicializarse con un argumento\"\n",
      "    #sys.exit(1)\n",
      "\n",
      "#filein = codecs.open(sys.argv[1],\"r\",\"utf8\")\n",
      "x = \"hola aloh\"\n",
      "Lineas = str[x]#filein.readlines()\n",
      "#filein.close()\n",
      "\n",
      "to_remove = [';',':',' ', ',', '_','-', '.','(', ')', '#','\"','[',']','\\n', '\\r', u'\\x0c',u'\\u011d', u'\\u2014', u'\\u016d', u'\\u0109', u'\\u2123']\n",
      "PPali = []\n",
      "\n",
      "for Linea in Lineas:\n",
      "    l = -1\n",
      "    linea = Linea.lower()  #minusculas todo\n",
      "    ListLinea = list(linea)\n",
      "    for letra in linea:\n",
      "        l = l+1\n",
      "        for quitar in to_remove:\n",
      "            if letra == quitar:\n",
      "                ListLinea.pop(l)\n",
      "                l = l-1\n",
      "    PPali.append(ListLinea)\n",
      "  \n",
      "finalCheck = []\n",
      "for item in PPali:\n",
      "    it = True;\n",
      "    longitud = len(item)\n",
      "    check = []\n",
      "    i = -1\n",
      "    while i <= 0.5*len(item)-1:\n",
      "        i = i + 1\n",
      "        forw = item[i]\n",
      "        reve = item[len(item)-1-i]\n",
      "        if reve != forw:\n",
      "            check.append(0)\n",
      "        elif reve == forw:\n",
      "            check.append(1)\n",
      "    for numero in  check:\n",
      "        if numero == 0:\n",
      "            it = False\n",
      "    finalCheck.append(it)\n",
      "\n",
      "a = 0\n",
      "#print finalCheck\n",
      "while a<=len(Lineas)-1:\n",
      "    Lin = Lineas[a]\n",
      "    Val = finalCheck[a]\n",
      "    print Val\n",
      "    a = a+1"
     ],
     "language": "python",
     "metadata": {},
     "outputs": [
      {
       "ename": "TypeError",
       "evalue": "'type' object has no attribute '__getitem__'",
       "output_type": "pyerr",
       "traceback": [
        "\u001b[1;31m---------------------------------------------------------------------------\u001b[0m\n\u001b[1;31mTypeError\u001b[0m                                 Traceback (most recent call last)",
        "\u001b[1;32m<ipython-input-244-a202153fe168>\u001b[0m in \u001b[0;36m<module>\u001b[1;34m()\u001b[0m\n\u001b[0;32m      7\u001b[0m \u001b[1;31m#filein = codecs.open(sys.argv[1],\"r\",\"utf8\")\u001b[0m\u001b[1;33m\u001b[0m\u001b[1;33m\u001b[0m\u001b[0m\n\u001b[0;32m      8\u001b[0m \u001b[0mx\u001b[0m \u001b[1;33m=\u001b[0m \u001b[1;34m\"hola aloh\"\u001b[0m\u001b[1;33m\u001b[0m\u001b[0m\n\u001b[1;32m----> 9\u001b[1;33m \u001b[0mLineas\u001b[0m \u001b[1;33m=\u001b[0m \u001b[0mstr\u001b[0m\u001b[1;33m[\u001b[0m\u001b[0mx\u001b[0m\u001b[1;33m]\u001b[0m\u001b[1;31m#filein.readlines()\u001b[0m\u001b[1;33m\u001b[0m\u001b[0m\n\u001b[0m\u001b[0;32m     10\u001b[0m \u001b[1;31m#filein.close()\u001b[0m\u001b[1;33m\u001b[0m\u001b[1;33m\u001b[0m\u001b[0m\n\u001b[0;32m     11\u001b[0m \u001b[1;33m\u001b[0m\u001b[0m\n",
        "\u001b[1;31mTypeError\u001b[0m: 'type' object has no attribute '__getitem__'"
       ]
      }
     ],
     "prompt_number": 244
    },
    {
     "cell_type": "code",
     "collapsed": false,
     "input": [
      "def texto_pal(a):\n",
      "    if a[::-1] == a:\n",
      "        return True\n",
      "    else:\n",
      "        return False \n",
      "    \n",
      "to_remove = [';',':',' ', ',', '_','-', '.','(', ')', '#','\"','[',']','\\n', '\\r', u'\\x0c',u'\\u011d', u'\\u2014', u'\\u016d', u'\\u0109', u'\\u2123']\n",
      "\n",
      "for w in x:\n",
      "    l = -1\n",
      "    sin_mayus = w.lower()\n",
      "    Listasin_mayus = list(sin_mayus) #esto arma la lista que viene SIN mayusculas\n",
      "    for y in sin_mayus:\n",
      "        l = l+1\n",
      "        for quitar in to_remove: #quita los elementos comunes en to_remove y actualiza la lista\n",
      "            if y == quitar:\n",
      "                Listasin_mayus.pop(l)\n",
      "                l = l-1\n",
      "       \n",
      "        \n",
      "def check_frase(a):\n",
      "    #a = a.lower()\n",
      "    f = a.replace(\" \",\"\")\n",
      "    #w = quitaracentos(f)\n",
      "    if texto_pal(w) == True:\n",
      "        print(\"Es Palindromo\")\n",
      "    else:\n",
      "        print(\"No es palindromo\")\n",
      "\n"
     ],
     "language": "python",
     "metadata": {},
     "outputs": [
      {
       "output_type": "stream",
       "stream": "stderr",
       "text": [
        "-c:16: UnicodeWarning: Unicode equal comparison failed to convert both arguments to Unicode - interpreting them as being unequal\n"
       ]
      }
     ],
     "prompt_number": 102
    },
    {
     "cell_type": "code",
     "collapsed": false,
     "input": [],
     "language": "python",
     "metadata": {},
     "outputs": [],
     "prompt_number": 102
    },
    {
     "cell_type": "code",
     "collapsed": false,
     "input": [
      "x= \"ac\u00e1s\"    "
     ],
     "language": "python",
     "metadata": {},
     "outputs": [],
     "prompt_number": 103
    },
    {
     "cell_type": "code",
     "collapsed": false,
     "input": [
      "check_frase(x)"
     ],
     "language": "python",
     "metadata": {},
     "outputs": [
      {
       "output_type": "stream",
       "stream": "stdout",
       "text": [
        "Es Palindromo\n"
       ]
      }
     ],
     "prompt_number": 104
    },
    {
     "cell_type": "code",
     "collapsed": false,
     "input": [
      "\n"
     ],
     "language": "python",
     "metadata": {},
     "outputs": [],
     "prompt_number": 104
    },
    {
     "cell_type": "code",
     "collapsed": false,
     "input": [],
     "language": "python",
     "metadata": {},
     "outputs": [],
     "prompt_number": 34
    },
    {
     "cell_type": "code",
     "collapsed": false,
     "input": [],
     "language": "python",
     "metadata": {},
     "outputs": []
    }
   ],
   "metadata": {}
  }
 ]
}